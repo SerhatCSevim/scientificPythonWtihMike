{
 "cells": [
  {
   "cell_type": "code",
   "execution_count": 1,
   "id": "7e415f12",
   "metadata": {},
   "outputs": [],
   "source": [
    "import requests\n",
    "import re\n",
    "import numpy as np\n",
    "import matplotlib.pyplot as plt\n",
    "import string"
   ]
  },
  {
   "cell_type": "code",
   "execution_count": 2,
   "id": "a8c31253",
   "metadata": {},
   "outputs": [],
   "source": [
    "book = requests.get('https://gutenberg.org/files/35/35-0.txt')"
   ]
  },
  {
   "cell_type": "code",
   "execution_count": 3,
   "id": "8e74dc57",
   "metadata": {},
   "outputs": [
    {
     "data": {
      "text/plain": [
       "<Response [200]>"
      ]
     },
     "execution_count": 3,
     "metadata": {},
     "output_type": "execute_result"
    }
   ],
   "source": [
    "book"
   ]
  },
  {
   "cell_type": "code",
   "execution_count": 4,
   "id": "894ba13f",
   "metadata": {},
   "outputs": [],
   "source": [
    "# the above output is response of the web Gutenberg server"
   ]
  },
  {
   "cell_type": "code",
   "execution_count": 5,
   "id": "c3a1a411",
   "metadata": {},
   "outputs": [
    {
     "name": "stdout",
     "output_type": "stream",
     "text": [
      "<class 'str'>\n",
      "204357\n"
     ]
    }
   ],
   "source": [
    "text = book.text\n",
    "\n",
    "print(type(text))\n",
    "print(len(text))"
   ]
  },
  {
   "cell_type": "code",
   "execution_count": 6,
   "id": "2a7ad33a",
   "metadata": {},
   "outputs": [
    {
     "data": {
      "text/plain": [
       "'ï»¿The Project Gutenberg eBook of The Time Machine, by H. G. Wells\\r\\n\\r\\nThis eBook is for the use of anyone anywhere in the United States and\\r\\nmost other parts of the world at no cost and with almost no restrictions\\r\\nwhatsoever. You may copy it, give it away or re-use it under the terms\\r\\nof the Project Gutenberg License included with this eBook or online at\\r\\nwww.gutenberg.org. If you are not located in the United States, you\\r\\nwill have to check the laws of the country where you are located before\\r\\nusing this eBook.\\r\\n\\r\\nTitle: The Time Machine\\r\\n\\r\\nAuthor: H. G. Wells\\r\\n\\r\\nRelease Date: July, 1992 [eBook #35]\\r\\n[Most recently updated: October 22, 2020]\\r\\n\\r\\nLanguage: English\\r\\n\\r\\nCharacter set encoding: UTF-8\\r\\n\\r\\n\\r\\n*** START OF THE PROJECT GUTENBERG EBOOK THE TIME MACHINE ***\\r\\n\\r\\n\\r\\n\\r\\n\\r\\nThe Time Machine\\r\\n\\r\\nAn Invention\\r\\n\\r\\nby H. G. Wells\\r\\n\\r\\n\\r\\nCONTENTS\\r\\n\\r\\n I Introduction\\r\\n II The Machine\\r\\n III The Time Traveller Returns\\r\\n IV Time Travelling\\r\\n V In the Golden Age\\r\\n VI The Sunset of Mankind\\r\\n VII A Sudden Shock\\r\\n VIII Explanation\\r\\n IX The Morlocks\\r\\n X When Night Came\\r\\n XI The Palace of Green Porcelain\\r\\n XII In the Darkness\\r\\n XIII The Trap of the White Sphinx\\r\\n XIV The Further Vision\\r\\n XV The Time Travellerâ\\x80\\x99s Return\\r\\n XVI After the Story\\r\\n Epilogue\\r\\n\\r\\n\\r\\n\\r\\n\\r\\n I.\\r\\n Introduction\\r\\n\\r\\n\\r\\nThe Time Traveller (for so it will be convenient to speak of him) was\\r\\nexpounding a recondite matter to us. His pale grey eyes shone and\\r\\ntwinkled, and his usually pale face was flushed and animated. The fire\\r\\nburnt brightly, and the soft radiance of the incandescent lights in the\\r\\nlilies of silver caught the bubbles that flashed and passed in our\\r\\nglasses. Our chairs, being his patents, embraced and caressed us rather\\r\\nthan submitted to be sat upon, and there was that luxurious\\r\\nafter-dinner atmosphere, when thought runs gracefully free of the\\r\\ntrammels of precision. And he put it to us in this wayâ\\x80\\x94marking the\\r\\npoints with a lean forefingerâ\\x80\\x94as we sat and lazily admired his\\r\\nearnestness over this new par'"
      ]
     },
     "execution_count": 6,
     "metadata": {},
     "output_type": "execute_result"
    }
   ],
   "source": [
    "# show first 2000 charachter\n",
    "\n",
    "text[:2000]\n"
   ]
  },
  {
   "cell_type": "code",
   "execution_count": 7,
   "id": "db585f5f",
   "metadata": {},
   "outputs": [],
   "source": [
    "# Character strings to replace with space\n",
    "\n",
    "strings2replace = [\n",
    "    '\\r\\n\\r\\nâ\\x80\\x9c', #new paragraph\n",
    "    'â\\x80\\x9c',         #open quote\n",
    "    'â\\x80\\x9d',         #close quote\n",
    "    '\\r\\n',              #new line\n",
    "    'â\\x80\\x94',         #hyphen\n",
    "    'â\\x80\\x99',         #single apostrophe\n",
    "    'â\\x80\\x98',         #single quote\n",
    "    '_',                 #underscore, used for stressing\n",
    "]\n"
   ]
  },
  {
   "cell_type": "code",
   "execution_count": 8,
   "id": "c6c02831",
   "metadata": {},
   "outputs": [],
   "source": [
    "for str2match in strings2replace:\n",
    "    #create new regular expression\n",
    "    regex = re.compile(r'%s'%str2match)\n",
    "    text = regex.sub(' ',text) # python every time see this string here, match and replace and overwrite\n",
    "    "
   ]
  },
  {
   "cell_type": "code",
   "execution_count": 9,
   "id": "22a833e3",
   "metadata": {},
   "outputs": [
    {
     "data": {
      "text/plain": [
       "'ï»¿The Project Gutenberg eBook of The Time Machine, by H. G. Wells  This eBook is for the use of anyone anywhere in the United States and most other parts of the world at no cost and with almost no restrictions whatsoever. You may copy it, give it away or re-use it under the terms of the Project Gutenberg License included with this eBook or online at www.gutenberg.org. If you are not located in the United States, you will have to check the laws of the country where you are located before using this eBook.  Title: The Time Machine  Author: H. G. Wells  Release Date: July, 1992 [eBook #35] [Most recently updated: October 22, 2020]  Language: English  Character set encoding: UTF-8   *** START OF THE PROJECT GUTENBERG EBOOK THE TIME MACHINE ***     The Time Machine  An Invention  by H. G. Wells   CONTENTS   I Introduction  II The Machine  III The Time Traveller Returns  IV Time Travelling  V In the Golden Age  VI The Sunset of Mankind  VII A Sudden Shock  VIII Explanation  IX The Morlocks  X When Night Came  XI The Palace of Green Porcelain  XII In the Darkness  XIII The Trap of the White Sphinx  XIV The Further Vision  XV The Time Traveller s Return  XVI After the Story  Epilogue      I.  Introduction   The Time Traveller (for so it will be convenient to speak of him) was expounding a recondite matter to us. His pale grey eyes shone and twinkled, and his usually pale face was flushed and animated. The fire burnt brightly, and the soft radiance of the incandescent lights in the lilies of silver caught the bubbles that flashed and passed in our glasses. Our chairs, being his patents, embraced and caressed us rather than submitted to be sat upon, and there was that luxurious after-dinner atmosphere, when thought runs gracefully free of the trammels of precision. And he put it to us in this way marking the points with a lean forefinger as we sat and lazily admired his earnestness over this new paradox (as we thought it) and his fecundity. You must follow me carefully. I shall have to controvert one or two ideas that are almost universally accepted. The geometry, for instance, they taught you at school is founded on a misconception.  Is not that rather a large thing to expect us to begin upon?  said Filby, an argumentative person with red hair. I do not mean to ask you to accept anything without reasonable ground for it. You will soon admit as much as I need from you. You know of course that a mathematical line, a line of thickness  nil , has no real existence. They taught you that? Neither has a mathematical plane. These things are mere abstractions.  That is all right,  said the Psychologist. Nor, having only length, breadth, and thickness, can a cube have a real existence.  There I object,  said Filby.  Of course a solid body may exist. All real things   So most people think. But wait a moment. Can an  instantaneous  cube exist?  Don t follow you,  said Filby. Can a cube that does not last for any time at all, have a real existence?   Filby became pensive.  Clearly,  the Time Traveller proceeded,  any real body must have extension in  four  directions: it must have Length, Breadth, Thickness, and Duration. But through a natural infirmity of the flesh, which I will explain to you in a moment, we incline to overlook this fact. There are really four dimensions, three which we call the three planes of Space, and a fourth, Time. There is, however, a tendency to draw an unreal distinction between the former three dimensions and the latter, because it happens that our consciousness moves intermittently in one direction along the latter from the beginning to the end of our lives.  That,  said a very young man, making spasmodic efforts to relight his cigar over the lamp;  that . . . very clear indeed.  Now, it is very remarkable that this is so extensively overlooked,  continued the Time Traveller, with a slight accession of cheerfulness.  Really this is what is meant by the Fourth Dimension, though some people who talk about the Fourth Dimension do not know they mean it. It is only another way of looking at Time.  There is no difference between Time and any of the three dimensions of Space except that our consciousness moves along it . But some foolish people have got hold of the wrong side of that idea. You have all heard what they have to say about this Fourth Dimension?   I  have not,  said the Provincial Mayor. It is simply this. That Space, as our mathematicians have it, is spoken of as having three dimensions, which one may call Length, Breadth, and Thickness, and is always definable by reference to three planes, each at right angles to the others. But some philosophical people have been asking why  three  dimensions particularly why not another direction at right angles to the other three? and have even tried to construct a Four-Dimensional geometry. Professor Simon Newcomb was expounding this to the New York Mathematical Society only a month or so ago. You know how on a flat surface, which has only two dimensions, we can represent a figure of a three-dimensional solid, and similarly they think that by models of three dimensions they could represent one of four if they could master the perspective of the thing. See?  I think so,  murmured the Provincial Mayor; and, knitting his brows, he lapsed into an introspective state, his lips moving as one who repeats mystic words.  Yes, I think I see it now,  he said after some time, brightening in a quite transitory manner. Well, I do not mind telling you I have been at work upon this geometry of Four Dimensions for some time. Some of my results are curious. For instance, here is a portrait of a man at eight years old, another at fifteen, another at seventeen, another at twenty-three, and so on. All these are evidently sections, as it were, Three-Dimensional representations of his Four-Dimensioned being, which is a fixed and unalterable thing. Scientific people,  proceeded the Time Traveller, after the pause required for the proper assimilation of this,  know very well that Time is only a kind of Space. Here is a popular scientific diagram, a weather record. This line I trace with my finger shows the movement of the barometer. Yesterday it was so high, yesterday night it fell, then this morning it rose again, and so gently upward to here. Surely the mercury did not trace this line in any of the dimensions of Space generally recognised? But certainly it traced such a line, and that line, therefore, we must conclude, was along the Time-Dimension.  But,  said the Medical Man, staring hard at a coal in the fire,  if Time is really only a fourth dimension of Space, why is it, and why has it always been, regarded as something different? And why cannot we move in Time as we move about in the other dimensions of Space?   The Time Traveller smiled.  Are you so sure we can move freely in Space? Right and left we can go, backward and forward freely enough, and men always have done so. I admit we move freely in two dimensions. But how about up and down? Gravitation limits us there.  Not exactly,  said the Medical Man.  There are balloons.  But before the balloons, save for spasmodic jumping and the inequalities of the surface, man had no freedom of vertical movement.  Still they could move a little up and down,  said the Medical Man. Easier, far easier down than up.  And you cannot move at all in Time, you cannot get away from the present moment.  My dear sir, that is just where you are wrong. That is just where the whole world has gone wrong. We are always getting away from the present moment. Our mental existences, which are immaterial and have no dimensions, are passing along the Time-Dimension with a uniform velocity from the cradle to the grave. Just as we should travel  down  if we began our existence fifty miles above the earth s surface.  But the great difficulty is this,  interrupted the Psychologist.  You  can  move about in all directions of Space, but you cannot move about in Time.  That is the germ of my great discovery. But you are wrong to say that we cannot move about in Time. For instance, if I am recalling an incident very vividly I go back to the instant of its occurrence: I become absent-minded, as you say. I jump back for a moment. Of course we have no means of staying back for any length of Time, any more than a savage or an animal has of staying six feet above the ground. But a civilised man is better off than the savage in this respect. He can go up against gravitation in a balloon, and why should he not hope that ultimately he may be able to stop or accelerate his drift along the Time-Dimension, or even turn about and travel the other way?  Oh,  this ,  began Filby,  is all   Why not?  said the Time Traveller. It s against reason,  said Filby. What reason?  said the Time Traveller. You can show black is white by argument,  said Filby,  but you will never convince me.  Possibly not,  said the Time Traveller.  But now you begin to see the object of my investigations into the geometry of Four Dimensions. Long ago I had a vague inkling of a machine   To travel through Time!  exclaimed the Very Young Man. That shall travel indifferently in any direction of Space and Time, as the driver determines.   Filby contented himself with laughter. But I have experimental verification,  said the Time Traveller. It would be remarkably convenient for the historian,  the Psychologist suggested.  One might travel back and verify the accepted account of the Battle of Hastings, for instance!  Don t you think you would attract attention?  said the Medical Man.  Our ancestors had no great tolerance for anachronisms.  One might get one s Greek from the very lips of Homer and Plato,  the Very Young Man thought. In which case they would certainly plough you for the Little-go. The German scholars have improved Greek so much.  Then there is the future,  said the Very Young Man.  Just think! One might invest all one s money, leave it to accumulate at interest, and hurry on ahead!  To discov'"
      ]
     },
     "execution_count": 9,
     "metadata": {},
     "output_type": "execute_result"
    }
   ],
   "source": [
    "text[:10000]"
   ]
  },
  {
   "cell_type": "code",
   "execution_count": 10,
   "id": "1b79c610",
   "metadata": {},
   "outputs": [
    {
     "name": "stdout",
     "output_type": "stream",
     "text": [
      "35811\n"
     ]
    }
   ],
   "source": [
    "# Distrubition of words lengths\n",
    "\n",
    "words = text.split()\n",
    "\n",
    "print(len(words))\n"
   ]
  },
  {
   "cell_type": "code",
   "execution_count": 11,
   "id": "ec53238c",
   "metadata": {},
   "outputs": [
    {
     "data": {
      "text/plain": [
       "['ï»¿The',\n",
       " 'Project',\n",
       " 'Gutenberg',\n",
       " 'eBook',\n",
       " 'of',\n",
       " 'The',\n",
       " 'Time',\n",
       " 'Machine,',\n",
       " 'by',\n",
       " 'H.',\n",
       " 'G.',\n",
       " 'Wells',\n",
       " 'This',\n",
       " 'eBook',\n",
       " 'is',\n",
       " 'for',\n",
       " 'the',\n",
       " 'use',\n",
       " 'of',\n",
       " 'anyone',\n",
       " 'anywhere',\n",
       " 'in',\n",
       " 'the',\n",
       " 'United',\n",
       " 'States',\n",
       " 'and',\n",
       " 'most',\n",
       " 'other',\n",
       " 'parts',\n",
       " 'of',\n",
       " 'the',\n",
       " 'world',\n",
       " 'at',\n",
       " 'no',\n",
       " 'cost',\n",
       " 'and',\n",
       " 'with',\n",
       " 'almost',\n",
       " 'no',\n",
       " 'restrictions',\n",
       " 'whatsoever.',\n",
       " 'You',\n",
       " 'may',\n",
       " 'copy',\n",
       " 'it,',\n",
       " 'give',\n",
       " 'it',\n",
       " 'away',\n",
       " 'or',\n",
       " 're-use']"
      ]
     },
     "execution_count": 11,
     "metadata": {},
     "output_type": "execute_result"
    }
   ],
   "source": [
    "words[:50]"
   ]
  },
  {
   "cell_type": "code",
   "execution_count": 12,
   "id": "3ca86b72",
   "metadata": {},
   "outputs": [
    {
     "data": {
      "image/png": "[encoded data removed]",
      "text/plain": [
       "<Figure size 432x288 with 1 Axes>"
      ]
     },
     "metadata": {
      "needs_background": "light"
     },
     "output_type": "display_data"
    }
   ],
   "source": [
    "wordlengths = np.zeros(len(words))\n",
    "\n",
    "for wordi in range(len(words)):\n",
    "    wordlengths[wordi] = len(words[wordi])\n",
    "    \n",
    "plt.hist(wordlengths, bins=30)\n",
    "plt.xlabel('Word Lengths')\n",
    "plt.ylabel('Word Count')\n",
    "plt.show()"
   ]
  },
  {
   "cell_type": "code",
   "execution_count": 13,
   "id": "634ebdab",
   "metadata": {},
   "outputs": [
    {
     "data": {
      "image/png": "[encoded data removed]",
      "text/plain": [
       "<Figure size 432x288 with 1 Axes>"
      ]
     },
     "metadata": {
      "needs_background": "light"
     },
     "output_type": "display_data"
    }
   ],
   "source": [
    "wordlengths = np.zeros(len(words))\n",
    "\n",
    "for wordi in range(len(words)):\n",
    "    wordlengths[wordi] = len(words[wordi])\n",
    "    \n",
    "plt.plot(wordlengths,'o')\n",
    "plt.show()"
   ]
  },
  {
   "cell_type": "code",
   "execution_count": 14,
   "id": "50f7bb58",
   "metadata": {},
   "outputs": [
    {
     "data": {
      "image/png": "[encoded data removed]",
      "text/plain": [
       "<Figure size 432x288 with 1 Axes>"
      ]
     },
     "metadata": {
      "needs_background": "light"
     },
     "output_type": "display_data"
    }
   ],
   "source": [
    "# Another way to show frequency of how many letters have words\n",
    "# loop through all the words and count how many letters are in each word\n",
    "# and then add a number to this vector here according to the number of letters in each word\n",
    "\n",
    "wordcounts = np.zeros(40) # Assuming no words that are longer than 40 letters\n",
    "\n",
    "for wrd in words:\n",
    "    wordcounts[len(wrd)] += 1\n",
    "    \n",
    "plt.bar(range(len(wordcounts)), wordcounts)\n",
    "plt.show()"
   ]
  },
  {
   "cell_type": "code",
   "execution_count": 15,
   "id": "c0f0a459",
   "metadata": {},
   "outputs": [],
   "source": [
    "# Letter Frequencies\n",
    "# Compute the letter frequencies\n",
    "# How often appear in the book"
   ]
  },
  {
   "cell_type": "code",
   "execution_count": 16,
   "id": "42990d16",
   "metadata": {},
   "outputs": [
    {
     "data": {
      "text/plain": [
       "12432"
      ]
     },
     "execution_count": 16,
     "metadata": {},
     "output_type": "execute_result"
    }
   ],
   "source": [
    "letters = string.ascii_lowercase\n",
    "\n",
    "# Not every charachter inside the string is actually a letter that we care about\n",
    "\n",
    "text.count('a')\n"
   ]
  },
  {
   "cell_type": "code",
   "execution_count": 17,
   "id": "436ddf51",
   "metadata": {},
   "outputs": [
    {
     "data": {
      "text/plain": [
       "12752"
      ]
     },
     "execution_count": 17,
     "metadata": {},
     "output_type": "execute_result"
    }
   ],
   "source": [
    "# convert the entire text in to lowercase\n",
    "text.lower().count('a')"
   ]
  },
  {
   "cell_type": "code",
   "execution_count": 18,
   "id": "033b1cf6",
   "metadata": {},
   "outputs": [
    {
     "data": {
      "image/png": "[encoded data removed]",
      "text/plain": [
       "<Figure size 1080x288 with 1 Axes>"
      ]
     },
     "metadata": {
      "needs_background": "light"
     },
     "output_type": "display_data"
    }
   ],
   "source": [
    "len_letters = len(letters)\n",
    "lettercounts = np.zeros(len_letters) #Why np.zero == if I see a bunch of zeros, I know something is suspicious.\n",
    "n = 0 #indexing variable\n",
    "\n",
    "\n",
    "for i in letters:\n",
    "    lettercounts[n] = text.lower().count(i)\n",
    "    n += 1\n",
    "    \n",
    "fig, ax = plt.subplots(1, figsize=(15,4))\n",
    "ax.bar(range(len_letters),lettercounts)\n",
    "ax.set_xticks(range(len_letters))\n",
    "ax.set_xticklabels(letters)\n",
    "ax.set_xlabel('Letters')\n",
    "ax.set_ylabel('Counts')\n",
    "plt.show()"
   ]
  },
  {
   "cell_type": "code",
   "execution_count": 19,
   "id": "d56dbf24",
   "metadata": {},
   "outputs": [
    {
     "data": {
      "image/png": "[encoded data removed]",
      "text/plain": [
       "<Figure size 1080x288 with 1 Axes>"
      ]
     },
     "metadata": {
      "needs_background": "light"
     },
     "output_type": "display_data"
    }
   ],
   "source": [
    "# Letter Entropy\n",
    "\n",
    "letterprob = lettercounts / sum(lettercounts)\n",
    "\n",
    "fig, ax = plt.subplots(1, figsize=(15,4))\n",
    "ax.bar(range(len_letters),letterprob)\n",
    "ax.set_xticks(range(len_letters))\n",
    "ax.set_xticklabels(letters)\n",
    "ax.set_xlabel('Letters')\n",
    "ax.set_ylabel('Probability')\n",
    "fig; # this figure kept in memory\n",
    "plt.show()"
   ]
  },
  {
   "cell_type": "code",
   "execution_count": 20,
   "id": "855b5e08",
   "metadata": {},
   "outputs": [
    {
     "data": {
      "image/png": "[encoded data removed]",
      "text/plain": [
       "<Figure size 1080x288 with 1 Axes>"
      ]
     },
     "execution_count": 20,
     "metadata": {},
     "output_type": "execute_result"
    }
   ],
   "source": [
    "entropy = -sum(letterprob * np.log2(letterprob))\n",
    "ax.set_title('Entropy = %.3f'%entropy)\n",
    "fig # regenerate the figure"
   ]
  },
  {
   "cell_type": "code",
   "execution_count": 21,
   "id": "c1c00031",
   "metadata": {},
   "outputs": [],
   "source": [
    "# Conditional (sequence) Entropy\n",
    "# Let's Consider in English what is the other letters come after letter 'a'\n",
    "# For example very low probablity 'a' follow 'a'"
   ]
  },
  {
   "cell_type": "code",
   "execution_count": 22,
   "id": "cb669e6d",
   "metadata": {},
   "outputs": [],
   "source": [
    "# The another point is that the conditional entropy is higher for some of letters then there\n",
    "# are many possibilities for other letters that can follow some letters"
   ]
  },
  {
   "cell_type": "code",
   "execution_count": 23,
   "id": "cf0823b1",
   "metadata": {},
   "outputs": [],
   "source": [
    "probability_matrix = np.zeros((len_letters,len_letters))\n",
    "\n",
    "for i in range(len(text)-1):\n",
    "    \n",
    "    currlet = text[i]\n",
    "    nextlet = text[i+1]\n",
    "    if currlet in letters and nextlet in letters:\n",
    "        probability_matrix[letters.index(currlet),letters.index(nextlet)] += 1\n",
    "        "
   ]
  },
  {
   "cell_type": "code",
   "execution_count": 24,
   "id": "a26a28c3",
   "metadata": {},
   "outputs": [
    {
     "data": {
      "image/png": "[encoded data removed]",
      "text/plain": [
       "<Figure size 720x720 with 1 Axes>"
      ]
     },
     "metadata": {
      "needs_background": "light"
     },
     "output_type": "display_data"
    }
   ],
   "source": [
    "fig, ax = plt.subplots(1, figsize=(10,10))\n",
    "\n",
    "ax.imshow(probability_matrix, vmax=400)\n",
    "ax.set_ylabel('Current Letter')\n",
    "ax.set_xlabel('Next Letter')\n",
    "ax.set_xticks(range(len_letters))\n",
    "ax.set_yticks(range(len_letters))\n",
    "ax.set_xticklabels(letters)\n",
    "ax.set_yticklabels(letters)                       \n",
    "plt.show()"
   ]
  },
  {
   "cell_type": "code",
   "execution_count": 25,
   "id": "1a985118",
   "metadata": {},
   "outputs": [],
   "source": [
    "# We need to convert this into our plot of conditional entropy.\n",
    "# It has to be done row wise\n",
    "# We take each row or we loop through this matrix, take each row and then convert that row probabilities"
   ]
  },
  {
   "cell_type": "code",
   "execution_count": 26,
   "id": "46d64600",
   "metadata": {},
   "outputs": [],
   "source": [
    "conditional_entropy = np.zeros(len_letters)\n",
    "\n",
    "for i in range(len_letters):\n",
    "    probs = probability_matrix[i,:]\n",
    "    probs = probs / sum(probs)\n",
    "    conditional_entropy[i] = -sum(probs*np.log2(probs + np.finfo(float).eps))"
   ]
  },
  {
   "cell_type": "code",
   "execution_count": 27,
   "id": "a399700d",
   "metadata": {},
   "outputs": [
    {
     "data": {
      "text/plain": [
       "array([ 3.64074099e+00,  2.95010018e+00,  3.24140006e+00,  3.00655688e+00,\n",
       "        3.67748020e+00,  3.02976822e+00,  3.09026710e+00,  2.07406242e+00,\n",
       "        3.36534107e+00,  1.45490467e+00,  2.33781232e+00,  3.28422605e+00,\n",
       "        2.75909226e+00,  3.35378253e+00,  3.70421941e+00,  3.30734043e+00,\n",
       "       -3.20342650e-16,  3.52314877e+00,  3.36621189e+00,  2.80569391e+00,\n",
       "        3.46214550e+00,  1.15940487e+00,  2.72231302e+00,  2.57042486e+00,\n",
       "        2.80682589e+00,  2.21839596e+00])"
      ]
     },
     "execution_count": 27,
     "metadata": {},
     "output_type": "execute_result"
    }
   ],
   "source": [
    "conditional_entropy"
   ]
  },
  {
   "cell_type": "code",
   "execution_count": 28,
   "id": "b82799ba",
   "metadata": {},
   "outputs": [
    {
     "data": {
      "image/png": "[encoded data removed]",
      "text/plain": [
       "<Figure size 576x288 with 1 Axes>"
      ]
     },
     "metadata": {
      "needs_background": "light"
     },
     "output_type": "display_data"
    }
   ],
   "source": [
    "fig, ax = plt.subplots(1,figsize = (8,4))\n",
    "ax.bar(range(len_letters), conditional_entropy)\n",
    "ax.set_xticks(range(len_letters))\n",
    "ax.set_xticklabels(letters)\n",
    "\n",
    "plt.show()"
   ]
  },
  {
   "cell_type": "code",
   "execution_count": 31,
   "id": "f4ae4b27",
   "metadata": {},
   "outputs": [
    {
     "name": "stdout",
     "output_type": "stream",
     "text": [
      "Defaulting to user installation because normal site-packages is not writeable\n",
      "Collecting wordcloud\n",
      "  Downloading wordcloud-1.8.2.2-cp39-cp39-win_amd64.whl (153 kB)\n",
      "     -------------------------------------- 153.1/153.1 kB 4.5 MB/s eta 0:00:00\n",
      "Requirement already satisfied: pillow in c:\\programdata\\anaconda3\\lib\\site-packages (from wordcloud) (9.0.1)\n",
      "Requirement already satisfied: numpy>=1.6.1 in c:\\programdata\\anaconda3\\lib\\site-packages (from wordcloud) (1.21.5)\n",
      "Requirement already satisfied: matplotlib in c:\\programdata\\anaconda3\\lib\\site-packages (from wordcloud) (3.5.1)\n",
      "Requirement already satisfied: packaging>=20.0 in c:\\programdata\\anaconda3\\lib\\site-packages (from matplotlib->wordcloud) (21.3)\n",
      "Requirement already satisfied: python-dateutil>=2.7 in c:\\programdata\\anaconda3\\lib\\site-packages (from matplotlib->wordcloud) (2.8.2)\n",
      "Requirement already satisfied: fonttools>=4.22.0 in c:\\programdata\\anaconda3\\lib\\site-packages (from matplotlib->wordcloud) (4.25.0)\n",
      "Requirement already satisfied: pyparsing>=2.2.1 in c:\\programdata\\anaconda3\\lib\\site-packages (from matplotlib->wordcloud) (3.0.4)\n",
      "Requirement already satisfied: cycler>=0.10 in c:\\programdata\\anaconda3\\lib\\site-packages (from matplotlib->wordcloud) (0.11.0)\n",
      "Requirement already satisfied: kiwisolver>=1.0.1 in c:\\programdata\\anaconda3\\lib\\site-packages (from matplotlib->wordcloud) (1.3.2)\n",
      "Requirement already satisfied: six>=1.5 in c:\\programdata\\anaconda3\\lib\\site-packages (from python-dateutil>=2.7->matplotlib->wordcloud) (1.16.0)\n",
      "Installing collected packages: wordcloud\n",
      "Successfully installed wordcloud-1.8.2.2\n"
     ]
    },
    {
     "name": "stderr",
     "output_type": "stream",
     "text": [
      "WARNING: Retrying (Retry(total=4, connect=None, read=None, redirect=None, status=None)) after connection broken by 'ProtocolError('Connection aborted.', ConnectionResetError(10054, 'An existing connection was forcibly closed by the remote host', None, 10054, None))': /simple/wordcloud/\n",
      "WARNING: Retrying (Retry(total=3, connect=None, read=None, redirect=None, status=None)) after connection broken by 'ProtocolError('Connection aborted.', ConnectionResetError(10054, 'An existing connection was forcibly closed by the remote host', None, 10054, None))': /simple/wordcloud/\n",
      "WARNING: Retrying (Retry(total=2, connect=None, read=None, redirect=None, status=None)) after connection broken by 'ProtocolError('Connection aborted.', ConnectionResetError(10054, 'An existing connection was forcibly closed by the remote host', None, 10054, None))': /simple/wordcloud/\n",
      "  WARNING: The script wordcloud_cli.exe is installed in 'C:\\Users\\seroq\\AppData\\Roaming\\Python\\Python39\\Scripts' which is not on PATH.\n",
      "  Consider adding this directory to PATH or, if you prefer to suppress this warning, use --no-warn-script-location.\n"
     ]
    }
   ],
   "source": [
    "# Make a Word Cloud\n",
    "!pip install wordcloud"
   ]
  },
  {
   "cell_type": "code",
   "execution_count": 32,
   "id": "1ef790f5",
   "metadata": {},
   "outputs": [],
   "source": [
    "from wordcloud import WordCloud"
   ]
  },
  {
   "cell_type": "code",
   "execution_count": null,
   "id": "5efc7f73",
   "metadata": {},
   "outputs": [],
   "source": [
    "wordcloud = WordCloud().generate(text)\n"
   ]
  }
 ],
 "metadata": {
  "kernelspec": {
   "display_name": "Python 3 (ipykernel)",
   "language": "python",
   "name": "python3"
  },
  "language_info": {
   "codemirror_mode": {
    "name": "ipython",
    "version": 3
   },
   "file_extension": ".py",
   "mimetype": "text/x-python",
   "name": "python",
   "nbconvert_exporter": "python",
   "pygments_lexer": "ipython3",
   "version": "3.9.12"
  }
 },
 "nbformat": 4,
 "nbformat_minor": 5
}
